{
 "cells": [
  {
   "cell_type": "markdown",
   "metadata": {},
   "source": [
    "## 기본자료구조\n",
    "\n",
    "list"
   ]
  },
  {
   "cell_type": "code",
   "execution_count": 2,
   "metadata": {
    "collapsed": true
   },
   "outputs": [],
   "source": [
    "numbers = [1,3,5,7,9]"
   ]
  },
  {
   "cell_type": "code",
   "execution_count": 4,
   "metadata": {
    "collapsed": true
   },
   "outputs": [],
   "source": [
    "values=[1,2,0,\"hello\",\"world\",[\"a\",\"b\",\"c\"]]"
   ]
  },
  {
   "cell_type": "code",
   "execution_count": 6,
   "metadata": {},
   "outputs": [
    {
     "data": {
      "text/plain": [
       "1"
      ]
     },
     "execution_count": 6,
     "metadata": {},
     "output_type": "execute_result"
    }
   ],
   "source": [
    "numbers[0]"
   ]
  },
  {
   "cell_type": "code",
   "execution_count": 8,
   "metadata": {},
   "outputs": [
    {
     "data": {
      "text/plain": [
       "9"
      ]
     },
     "execution_count": 8,
     "metadata": {},
     "output_type": "execute_result"
    }
   ],
   "source": [
    "numbers[4]"
   ]
  },
  {
   "cell_type": "code",
   "execution_count": 10,
   "metadata": {},
   "outputs": [
    {
     "data": {
      "text/plain": [
       "5"
      ]
     },
     "execution_count": 10,
     "metadata": {},
     "output_type": "execute_result"
    }
   ],
   "source": [
    "len(numbers)"
   ]
  },
  {
   "cell_type": "code",
   "execution_count": 12,
   "metadata": {},
   "outputs": [
    {
     "data": {
      "text/plain": [
       "9"
      ]
     },
     "execution_count": 12,
     "metadata": {},
     "output_type": "execute_result"
    }
   ],
   "source": [
    "numbers[len(numbers)-1]"
   ]
  },
  {
   "cell_type": "code",
   "execution_count": 15,
   "metadata": {},
   "outputs": [
    {
     "data": {
      "text/plain": [
       "9"
      ]
     },
     "execution_count": 15,
     "metadata": {},
     "output_type": "execute_result"
    }
   ],
   "source": [
    "numbers[-1]"
   ]
  },
  {
   "cell_type": "code",
   "execution_count": 16,
   "metadata": {},
   "outputs": [
    {
     "ename": "IndexError",
     "evalue": "list index out of range",
     "output_type": "error",
     "traceback": [
      "\u001b[0;31m---------------------------------------------------------------------------\u001b[0m",
      "\u001b[0;31mIndexError\u001b[0m                                Traceback (most recent call last)",
      "\u001b[0;32m<ipython-input-16-93305a1bc3f6>\u001b[0m in \u001b[0;36m<module>\u001b[0;34m()\u001b[0m\n\u001b[0;32m----> 1\u001b[0;31m \u001b[0mnumbers\u001b[0m\u001b[0;34m[\u001b[0m\u001b[0;36m10\u001b[0m\u001b[0;34m]\u001b[0m\u001b[0;34m\u001b[0m\u001b[0m\n\u001b[0m",
      "\u001b[0;31mIndexError\u001b[0m: list index out of range"
     ]
    }
   ],
   "source": [
    "numbers[10] #예외"
   ]
  },
  {
   "cell_type": "code",
   "execution_count": 18,
   "metadata": {
    "collapsed": true
   },
   "outputs": [],
   "source": [
    "#change value\n",
    "numbers[0]=100"
   ]
  },
  {
   "cell_type": "code",
   "execution_count": 21,
   "metadata": {},
   "outputs": [
    {
     "name": "stdout",
     "output_type": "stream",
     "text": [
      "[100, 3, 5, 7, 9]\n"
     ]
    }
   ],
   "source": [
    "print(numbers)"
   ]
  },
  {
   "cell_type": "code",
   "execution_count": 33,
   "metadata": {
    "collapsed": true
   },
   "outputs": [],
   "source": [
    "numbers.append(200)"
   ]
  },
  {
   "cell_type": "code",
   "execution_count": 34,
   "metadata": {},
   "outputs": [
    {
     "data": {
      "text/plain": [
       "[100, 300, 300, 300, 3, 5, 7, 9, 200]"
      ]
     },
     "execution_count": 34,
     "metadata": {},
     "output_type": "execute_result"
    }
   ],
   "source": [
    "numbers"
   ]
  },
  {
   "cell_type": "code",
   "execution_count": 36,
   "metadata": {
    "collapsed": true
   },
   "outputs": [],
   "source": [
    "numbers.insert(1,300)"
   ]
  },
  {
   "cell_type": "code",
   "execution_count": 38,
   "metadata": {},
   "outputs": [
    {
     "data": {
      "text/plain": [
       "[100, 300, 300, 300, 300, 300, 3, 5, 7, 9, 200]"
      ]
     },
     "execution_count": 38,
     "metadata": {},
     "output_type": "execute_result"
    }
   ],
   "source": [
    "numbers"
   ]
  },
  {
   "cell_type": "markdown",
   "metadata": {},
   "source": [
    "## 퀴즈\n",
    "로또번호"
   ]
  },
  {
   "cell_type": "code",
   "execution_count": 51,
   "metadata": {},
   "outputs": [
    {
     "data": {
      "text/plain": [
       "20"
      ]
     },
     "execution_count": 51,
     "metadata": {},
     "output_type": "execute_result"
    }
   ],
   "source": [
    "import random\n",
    "random.randint(1,45)"
   ]
  },
  {
   "cell_type": "code",
   "execution_count": 53,
   "metadata": {},
   "outputs": [
    {
     "data": {
      "text/plain": [
       "[37, 9, 30, 7, 17, 18]"
      ]
     },
     "execution_count": 53,
     "metadata": {},
     "output_type": "execute_result"
    }
   ],
   "source": [
    "lotto_numbers = []\n",
    "\n",
    "while True:\n",
    "    value = random.randint(1,45)\n",
    "    if value not in lotto_numbers:\n",
    "        lotto_numbers.append(value)\n",
    "    if len(lotto_numbers) == 6:\n",
    "        break\n",
    "    \n",
    "lotto_numbers    "
   ]
  },
  {
   "cell_type": "code",
   "execution_count": 61,
   "metadata": {
    "collapsed": true
   },
   "outputs": [],
   "source": [
    "message =\"hello world\""
   ]
  },
  {
   "cell_type": "code",
   "execution_count": 63,
   "metadata": {
    "scrolled": true
   },
   "outputs": [
    {
     "data": {
      "text/plain": [
       "'h'"
      ]
     },
     "execution_count": 63,
     "metadata": {},
     "output_type": "execute_result"
    }
   ],
   "source": [
    "message[0]"
   ]
  },
  {
   "cell_type": "code",
   "execution_count": 65,
   "metadata": {},
   "outputs": [
    {
     "data": {
      "text/plain": [
       "'ello world'"
      ]
     },
     "execution_count": 65,
     "metadata": {},
     "output_type": "execute_result"
    }
   ],
   "source": [
    "message[1:]"
   ]
  },
  {
   "cell_type": "code",
   "execution_count": 67,
   "metadata": {},
   "outputs": [
    {
     "data": {
      "text/plain": [
       "'ello worl'"
      ]
     },
     "execution_count": 67,
     "metadata": {},
     "output_type": "execute_result"
    }
   ],
   "source": [
    "message[1:-1]"
   ]
  },
  {
   "cell_type": "code",
   "execution_count": 73,
   "metadata": {},
   "outputs": [
    {
     "data": {
      "text/plain": [
       "'el ol'"
      ]
     },
     "execution_count": 73,
     "metadata": {},
     "output_type": "execute_result"
    }
   ],
   "source": [
    "message[1:-1:2]"
   ]
  },
  {
   "cell_type": "code",
   "execution_count": 71,
   "metadata": {},
   "outputs": [
    {
     "data": {
      "text/plain": [
       "'eoo'"
      ]
     },
     "execution_count": 71,
     "metadata": {},
     "output_type": "execute_result"
    }
   ],
   "source": [
    "message[1:-1:3]"
   ]
  },
  {
   "cell_type": "code",
   "execution_count": 74,
   "metadata": {},
   "outputs": [
    {
     "data": {
      "text/plain": [
       "''"
      ]
     },
     "execution_count": 74,
     "metadata": {},
     "output_type": "execute_result"
    }
   ],
   "source": [
    "message[-1:1]"
   ]
  },
  {
   "cell_type": "code",
   "execution_count": 76,
   "metadata": {},
   "outputs": [
    {
     "data": {
      "text/plain": [
       "'dlrow oll'"
      ]
     },
     "execution_count": 76,
     "metadata": {},
     "output_type": "execute_result"
    }
   ],
   "source": [
    "message[-1:1:-1]"
   ]
  },
  {
   "cell_type": "code",
   "execution_count": 78,
   "metadata": {},
   "outputs": [
    {
     "data": {
      "text/plain": [
       "'dlrow olleh'"
      ]
     },
     "execution_count": 78,
     "metadata": {},
     "output_type": "execute_result"
    }
   ],
   "source": [
    "message[::-1]"
   ]
  },
  {
   "cell_type": "code",
   "execution_count": 79,
   "metadata": {},
   "outputs": [
    {
     "data": {
      "text/plain": [
       "'helloworld'"
      ]
     },
     "execution_count": 79,
     "metadata": {},
     "output_type": "execute_result"
    }
   ],
   "source": [
    "\"hello\"+\"world\""
   ]
  },
  {
   "cell_type": "code",
   "execution_count": 81,
   "metadata": {},
   "outputs": [
    {
     "data": {
      "text/plain": [
       "[1, 2, 3, 4, 5, 6]"
      ]
     },
     "execution_count": 81,
     "metadata": {},
     "output_type": "execute_result"
    }
   ],
   "source": [
    "[1,2,3]+[4,5,6]"
   ]
  },
  {
   "cell_type": "code",
   "execution_count": 101,
   "metadata": {
    "collapsed": true
   },
   "outputs": [],
   "source": [
    "numbers1 = [1,3,5,7]\n",
    "numbers2 = [2,4,6,8]\n",
    "numbers3 = [13,23,33]"
   ]
  },
  {
   "cell_type": "code",
   "execution_count": 83,
   "metadata": {},
   "outputs": [
    {
     "name": "stdout",
     "output_type": "stream",
     "text": [
      "1 2\n",
      "3 4\n",
      "5 6\n",
      "7 8\n"
     ]
    }
   ],
   "source": [
    "for (i,j) in zip(numbers1,numbers2):\n",
    "    print(i,j)"
   ]
  },
  {
   "cell_type": "code",
   "execution_count": 85,
   "metadata": {
    "collapsed": true
   },
   "outputs": [],
   "source": [
    "x=1\n",
    "y=2\n"
   ]
  },
  {
   "cell_type": "code",
   "execution_count": 91,
   "metadata": {
    "collapsed": true
   },
   "outputs": [],
   "source": [
    "x, y = y, x\n"
   ]
  },
  {
   "cell_type": "code",
   "execution_count": 92,
   "metadata": {},
   "outputs": [
    {
     "data": {
      "text/plain": [
       "2"
      ]
     },
     "execution_count": 92,
     "metadata": {},
     "output_type": "execute_result"
    }
   ],
   "source": [
    "x"
   ]
  },
  {
   "cell_type": "code",
   "execution_count": 94,
   "metadata": {},
   "outputs": [
    {
     "data": {
      "text/plain": [
       "1"
      ]
     },
     "execution_count": 94,
     "metadata": {},
     "output_type": "execute_result"
    }
   ],
   "source": [
    "y"
   ]
  },
  {
   "cell_type": "code",
   "execution_count": 99,
   "metadata": {
    "collapsed": true
   },
   "outputs": [],
   "source": [
    "numbers =[1, 2, 3, 4]"
   ]
  },
  {
   "cell_type": "code",
   "execution_count": 100,
   "metadata": {
    "collapsed": true
   },
   "outputs": [],
   "source": [
    "v1, v2, v3, v4 = numbers\n"
   ]
  },
  {
   "cell_type": "code",
   "execution_count": 102,
   "metadata": {},
   "outputs": [
    {
     "data": {
      "text/plain": [
       "(1, 2, 3, 4, 5, 6, 7, 8, 9, 10)"
      ]
     },
     "execution_count": 102,
     "metadata": {},
     "output_type": "execute_result"
    }
   ],
   "source": [
    "(1,2,3,4,5,6,7,8,9,10)"
   ]
  },
  {
   "cell_type": "code",
   "execution_count": 103,
   "metadata": {},
   "outputs": [
    {
     "data": {
      "text/plain": [
       "(1,)"
      ]
     },
     "execution_count": 103,
     "metadata": {},
     "output_type": "execute_result"
    }
   ],
   "source": [
    "(1,)"
   ]
  },
  {
   "cell_type": "code",
   "execution_count": 105,
   "metadata": {},
   "outputs": [
    {
     "data": {
      "text/plain": [
       "1"
      ]
     },
     "execution_count": 105,
     "metadata": {},
     "output_type": "execute_result"
    }
   ],
   "source": [
    "(1)"
   ]
  },
  {
   "cell_type": "code",
   "execution_count": 108,
   "metadata": {},
   "outputs": [
    {
     "name": "stdout",
     "output_type": "stream",
     "text": [
      "1\n",
      "2\n",
      "3\n",
      "4\n",
      "5\n",
      "6\n",
      "7\n",
      "8\n",
      "9\n",
      "10\n"
     ]
    }
   ],
   "source": [
    "for i in (1,2,3,4,5,6,7,8,9,10):\n",
    "    print(i)"
   ]
  },
  {
   "cell_type": "code",
   "execution_count": 109,
   "metadata": {},
   "outputs": [
    {
     "name": "stdout",
     "output_type": "stream",
     "text": [
      "1\n"
     ]
    }
   ],
   "source": [
    "for i in (1,):\n",
    "    print(i)"
   ]
  },
  {
   "cell_type": "code",
   "execution_count": 1,
   "metadata": {
    "collapsed": true
   },
   "outputs": [],
   "source": [
    "import os\n",
    "import requests\n",
    "from bs4 import BeautifulSoup\n",
    "\n",
    "comic_url = 'https://comic.naver.com/webtoon/detail.nhn?titleId=662774&no=142&weekday=wed'"
   ]
  },
  {
   "cell_type": "code",
   "execution_count": 2,
   "metadata": {},
   "outputs": [
    {
     "data": {
      "text/plain": [
       "['https://image-comic.pstatic.net/webtoon/662774/142/20180707225814_4b71bd0a142a9bb0cbc9c1bf5f2742a8_IMAG01_1.jpg',\n",
       " 'https://image-comic.pstatic.net/webtoon/662774/142/20180707225814_4b71bd0a142a9bb0cbc9c1bf5f2742a8_IMAG01_2.jpg',\n",
       " 'https://image-comic.pstatic.net/webtoon/662774/142/20180707225814_4b71bd0a142a9bb0cbc9c1bf5f2742a8_IMAG01_3.jpg',\n",
       " 'https://image-comic.pstatic.net/webtoon/662774/142/20180707225814_4b71bd0a142a9bb0cbc9c1bf5f2742a8_IMAG01_4.jpg',\n",
       " 'https://image-comic.pstatic.net/webtoon/662774/142/20180707225814_4b71bd0a142a9bb0cbc9c1bf5f2742a8_IMAG01_5.jpg',\n",
       " 'https://image-comic.pstatic.net/webtoon/662774/142/20180707225814_4b71bd0a142a9bb0cbc9c1bf5f2742a8_IMAG01_6.jpg',\n",
       " 'https://image-comic.pstatic.net/webtoon/662774/142/20180707225814_4b71bd0a142a9bb0cbc9c1bf5f2742a8_IMAG01_7.jpg',\n",
       " 'https://image-comic.pstatic.net/webtoon/662774/142/20180707225814_4b71bd0a142a9bb0cbc9c1bf5f2742a8_IMAG01_8.jpg',\n",
       " 'https://image-comic.pstatic.net/webtoon/662774/142/20180707225814_4b71bd0a142a9bb0cbc9c1bf5f2742a8_IMAG01_9.jpg',\n",
       " 'https://image-comic.pstatic.net/webtoon/662774/142/20180707225814_4b71bd0a142a9bb0cbc9c1bf5f2742a8_IMAG01_10.jpg',\n",
       " 'https://image-comic.pstatic.net/webtoon/662774/142/20180707225814_4b71bd0a142a9bb0cbc9c1bf5f2742a8_IMAG01_11.jpg',\n",
       " 'https://image-comic.pstatic.net/webtoon/662774/142/20180707225814_4b71bd0a142a9bb0cbc9c1bf5f2742a8_IMAG01_12.jpg',\n",
       " 'https://image-comic.pstatic.net/webtoon/662774/142/20180707225814_4b71bd0a142a9bb0cbc9c1bf5f2742a8_IMAG01_13.jpg',\n",
       " 'https://image-comic.pstatic.net/webtoon/662774/142/20180707225814_4b71bd0a142a9bb0cbc9c1bf5f2742a8_IMAG01_14.jpg',\n",
       " 'https://image-comic.pstatic.net/webtoon/662774/142/20180707225814_4b71bd0a142a9bb0cbc9c1bf5f2742a8_IMAG01_15.jpg',\n",
       " 'https://image-comic.pstatic.net/webtoon/662774/142/20180707225814_4b71bd0a142a9bb0cbc9c1bf5f2742a8_IMAG01_16.jpg',\n",
       " 'https://image-comic.pstatic.net/webtoon/662774/142/20180707225814_4b71bd0a142a9bb0cbc9c1bf5f2742a8_IMAG01_17.jpg',\n",
       " 'https://image-comic.pstatic.net/webtoon/662774/142/20180707225814_4b71bd0a142a9bb0cbc9c1bf5f2742a8_IMAG01_18.jpg',\n",
       " 'https://image-comic.pstatic.net/webtoon/662774/142/20180707225814_4b71bd0a142a9bb0cbc9c1bf5f2742a8_IMAG01_19.jpg',\n",
       " 'https://image-comic.pstatic.net/webtoon/662774/142/20180707225814_4b71bd0a142a9bb0cbc9c1bf5f2742a8_IMAG01_20.jpg',\n",
       " 'https://image-comic.pstatic.net/webtoon/662774/142/20180707225814_4b71bd0a142a9bb0cbc9c1bf5f2742a8_IMAG01_21.jpg',\n",
       " 'https://image-comic.pstatic.net/webtoon/662774/142/20180707225814_4b71bd0a142a9bb0cbc9c1bf5f2742a8_IMAG01_22.jpg',\n",
       " 'https://image-comic.pstatic.net/webtoon/662774/142/20180707225814_4b71bd0a142a9bb0cbc9c1bf5f2742a8_IMAG01_23.jpg',\n",
       " 'https://image-comic.pstatic.net/webtoon/662774/142/20180707225814_4b71bd0a142a9bb0cbc9c1bf5f2742a8_IMAG01_24.jpg',\n",
       " 'https://image-comic.pstatic.net/webtoon/662774/142/20180707225814_4b71bd0a142a9bb0cbc9c1bf5f2742a8_IMAG01_25.jpg',\n",
       " 'https://image-comic.pstatic.net/webtoon/662774/142/20180707225814_4b71bd0a142a9bb0cbc9c1bf5f2742a8_IMAG01_26.jpg',\n",
       " 'https://image-comic.pstatic.net/webtoon/662774/142/20180707225814_4b71bd0a142a9bb0cbc9c1bf5f2742a8_IMAG01_27.jpg',\n",
       " 'https://image-comic.pstatic.net/webtoon/662774/142/20180707225814_4b71bd0a142a9bb0cbc9c1bf5f2742a8_IMAG01_28.jpg',\n",
       " 'https://image-comic.pstatic.net/webtoon/662774/142/20180707225814_4b71bd0a142a9bb0cbc9c1bf5f2742a8_IMAG01_29.jpg',\n",
       " 'https://image-comic.pstatic.net/webtoon/662774/142/20180707225814_4b71bd0a142a9bb0cbc9c1bf5f2742a8_IMAG01_30.jpg',\n",
       " 'https://image-comic.pstatic.net/webtoon/662774/142/20180707225814_4b71bd0a142a9bb0cbc9c1bf5f2742a8_IMAG01_31.jpg',\n",
       " 'https://image-comic.pstatic.net/webtoon/662774/142/20180707225814_4b71bd0a142a9bb0cbc9c1bf5f2742a8_IMAG01_32.jpg',\n",
       " 'https://image-comic.pstatic.net/webtoon/662774/142/20180707225814_4b71bd0a142a9bb0cbc9c1bf5f2742a8_IMAG01_33.jpg',\n",
       " 'https://image-comic.pstatic.net/webtoon/662774/142/20180707225814_4b71bd0a142a9bb0cbc9c1bf5f2742a8_IMAG01_34.jpg',\n",
       " 'https://image-comic.pstatic.net/webtoon/662774/142/20180707225814_4b71bd0a142a9bb0cbc9c1bf5f2742a8_IMAG01_35.jpg',\n",
       " 'https://image-comic.pstatic.net/webtoon/662774/142/20180707225814_4b71bd0a142a9bb0cbc9c1bf5f2742a8_IMAG01_36.jpg',\n",
       " 'https://image-comic.pstatic.net/webtoon/662774/142/20180707225814_4b71bd0a142a9bb0cbc9c1bf5f2742a8_IMAG01_37.jpg',\n",
       " 'https://image-comic.pstatic.net/webtoon/662774/142/20180707225814_4b71bd0a142a9bb0cbc9c1bf5f2742a8_IMAG01_38.jpg',\n",
       " 'https://image-comic.pstatic.net/webtoon/662774/142/20180707225814_4b71bd0a142a9bb0cbc9c1bf5f2742a8_IMAG01_39.jpg',\n",
       " 'https://image-comic.pstatic.net/webtoon/662774/142/20180707225814_4b71bd0a142a9bb0cbc9c1bf5f2742a8_IMAG01_40.jpg',\n",
       " 'https://image-comic.pstatic.net/webtoon/662774/142/20180707225814_4b71bd0a142a9bb0cbc9c1bf5f2742a8_IMAG01_41.jpg',\n",
       " 'https://image-comic.pstatic.net/webtoon/662774/142/20180707225814_4b71bd0a142a9bb0cbc9c1bf5f2742a8_IMAG01_42.jpg',\n",
       " 'https://image-comic.pstatic.net/webtoon/662774/142/20180707225814_4b71bd0a142a9bb0cbc9c1bf5f2742a8_IMAG01_43.jpg',\n",
       " 'https://image-comic.pstatic.net/webtoon/662774/142/20180707225814_4b71bd0a142a9bb0cbc9c1bf5f2742a8_IMAG01_44.jpg',\n",
       " 'https://image-comic.pstatic.net/webtoon/662774/142/20180707225814_4b71bd0a142a9bb0cbc9c1bf5f2742a8_IMAG01_45.jpg',\n",
       " 'https://image-comic.pstatic.net/webtoon/662774/142/20180707225814_4b71bd0a142a9bb0cbc9c1bf5f2742a8_IMAG01_46.jpg',\n",
       " 'https://image-comic.pstatic.net/webtoon/662774/142/20180707225814_4b71bd0a142a9bb0cbc9c1bf5f2742a8_IMAG01_47.jpg',\n",
       " 'https://image-comic.pstatic.net/webtoon/662774/142/20180707225814_4b71bd0a142a9bb0cbc9c1bf5f2742a8_IMAG01_48.jpg',\n",
       " 'https://image-comic.pstatic.net/webtoon/662774/142/20180707225814_4b71bd0a142a9bb0cbc9c1bf5f2742a8_IMAG01_49.jpg',\n",
       " 'https://image-comic.pstatic.net/webtoon/662774/142/20180707225814_4b71bd0a142a9bb0cbc9c1bf5f2742a8_IMAG01_50.jpg',\n",
       " 'https://image-comic.pstatic.net/webtoon/662774/142/20180707225814_4b71bd0a142a9bb0cbc9c1bf5f2742a8_IMAG01_51.jpg',\n",
       " 'https://image-comic.pstatic.net/webtoon/662774/142/20180707225814_4b71bd0a142a9bb0cbc9c1bf5f2742a8_IMAG01_52.jpg',\n",
       " 'https://image-comic.pstatic.net/webtoon/662774/142/20180707225814_4b71bd0a142a9bb0cbc9c1bf5f2742a8_IMAG01_53.jpg',\n",
       " 'https://image-comic.pstatic.net/webtoon/662774/142/20180707225814_4b71bd0a142a9bb0cbc9c1bf5f2742a8_IMAG01_54.jpg',\n",
       " 'https://image-comic.pstatic.net/webtoon/662774/142/20180707225814_4b71bd0a142a9bb0cbc9c1bf5f2742a8_IMAG01_55.jpg',\n",
       " 'https://image-comic.pstatic.net/webtoon/662774/142/20180707225814_4b71bd0a142a9bb0cbc9c1bf5f2742a8_IMAG01_56.jpg',\n",
       " 'https://image-comic.pstatic.net/webtoon/662774/142/20180707225814_4b71bd0a142a9bb0cbc9c1bf5f2742a8_IMAG01_57.jpg',\n",
       " 'https://image-comic.pstatic.net/webtoon/662774/142/20180707225814_4b71bd0a142a9bb0cbc9c1bf5f2742a8_IMAG01_58.jpg',\n",
       " 'https://image-comic.pstatic.net/webtoon/662774/142/20180707225814_4b71bd0a142a9bb0cbc9c1bf5f2742a8_IMAG01_59.jpg',\n",
       " 'https://image-comic.pstatic.net/webtoon/662774/142/20180707225814_4b71bd0a142a9bb0cbc9c1bf5f2742a8_IMAG01_60.jpg',\n",
       " 'https://image-comic.pstatic.net/webtoon/662774/142/20180707225814_4b71bd0a142a9bb0cbc9c1bf5f2742a8_IMAG01_61.jpg',\n",
       " 'https://image-comic.pstatic.net/webtoon/662774/142/20180707225814_4b71bd0a142a9bb0cbc9c1bf5f2742a8_IMAG01_62.jpg',\n",
       " 'https://image-comic.pstatic.net/webtoon/662774/142/20180707225814_4b71bd0a142a9bb0cbc9c1bf5f2742a8_IMAG01_63.jpg',\n",
       " 'https://image-comic.pstatic.net/webtoon/662774/142/20180707225814_4b71bd0a142a9bb0cbc9c1bf5f2742a8_IMAG01_64.jpg',\n",
       " 'https://image-comic.pstatic.net/webtoon/662774/142/20180707225814_4b71bd0a142a9bb0cbc9c1bf5f2742a8_IMAG01_65.jpg',\n",
       " 'https://image-comic.pstatic.net/webtoon/662774/142/20180707225814_4b71bd0a142a9bb0cbc9c1bf5f2742a8_IMAG01_66.jpg',\n",
       " 'https://image-comic.pstatic.net/webtoon/662774/142/20180707225814_4b71bd0a142a9bb0cbc9c1bf5f2742a8_IMAG01_67.jpg',\n",
       " 'https://image-comic.pstatic.net/webtoon/662774/142/20180707225814_4b71bd0a142a9bb0cbc9c1bf5f2742a8_IMAG01_68.jpg',\n",
       " 'https://image-comic.pstatic.net/webtoon/662774/142/20180707225814_4b71bd0a142a9bb0cbc9c1bf5f2742a8_IMAG01_69.jpg',\n",
       " 'https://image-comic.pstatic.net/webtoon/662774/142/20180707225814_4b71bd0a142a9bb0cbc9c1bf5f2742a8_IMAG01_70.jpg',\n",
       " 'https://image-comic.pstatic.net/webtoon/662774/142/20180707225814_4b71bd0a142a9bb0cbc9c1bf5f2742a8_IMAG01_71.jpg',\n",
       " 'https://image-comic.pstatic.net/webtoon/662774/142/20180707225814_4b71bd0a142a9bb0cbc9c1bf5f2742a8_IMAG01_72.jpg',\n",
       " 'https://image-comic.pstatic.net/webtoon/662774/142/20180707225814_4b71bd0a142a9bb0cbc9c1bf5f2742a8_IMAG01_73.jpg',\n",
       " 'https://image-comic.pstatic.net/webtoon/662774/142/20180707225814_4b71bd0a142a9bb0cbc9c1bf5f2742a8_IMAG01_74.jpg',\n",
       " 'https://image-comic.pstatic.net/webtoon/662774/142/20180707225814_4b71bd0a142a9bb0cbc9c1bf5f2742a8_IMAG01_75.jpg',\n",
       " 'https://image-comic.pstatic.net/webtoon/662774/142/20180707225814_4b71bd0a142a9bb0cbc9c1bf5f2742a8_IMAG01_76.jpg',\n",
       " 'https://ssl.pstatic.net/static/comic/images/txt_ads.png',\n",
       " 'https://ssl.pstatic.net/static/comic/images/txt_ads.png']"
      ]
     },
     "execution_count": 2,
     "metadata": {},
     "output_type": "execute_result"
    }
   ],
   "source": [
    "res = requests.get(comic_url)\n",
    "html = res.text\n",
    "soup = BeautifulSoup(html, 'html.parser')\n",
    "\n",
    "image_url_list = []\n",
    "\n",
    "for tag in soup.select('#comic_view_area img'):\n",
    "    try:\n",
    "        image_url = tag['src']\n",
    "        if image_url:\n",
    "            image_url_list.append(image_url)\n",
    "    except KeyError:\n",
    "        pass\n",
    "        \n",
    "image_url_list"
   ]
  },
  {
   "cell_type": "code",
   "execution_count": 3,
   "metadata": {},
   "outputs": [
    {
     "name": "stdout",
     "output_type": "stream",
     "text": [
      "https://image-comic.pstatic.net/webtoon/662774/142/20180707225814_4b71bd0a142a9bb0cbc9c1bf5f2742a8_IMAG01_1.jpg\n",
      "https://image-comic.pstatic.net/webtoon/662774/142/20180707225814_4b71bd0a142a9bb0cbc9c1bf5f2742a8_IMAG01_2.jpg\n",
      "https://image-comic.pstatic.net/webtoon/662774/142/20180707225814_4b71bd0a142a9bb0cbc9c1bf5f2742a8_IMAG01_3.jpg\n",
      "https://image-comic.pstatic.net/webtoon/662774/142/20180707225814_4b71bd0a142a9bb0cbc9c1bf5f2742a8_IMAG01_4.jpg\n",
      "https://image-comic.pstatic.net/webtoon/662774/142/20180707225814_4b71bd0a142a9bb0cbc9c1bf5f2742a8_IMAG01_5.jpg\n",
      "https://image-comic.pstatic.net/webtoon/662774/142/20180707225814_4b71bd0a142a9bb0cbc9c1bf5f2742a8_IMAG01_6.jpg\n",
      "https://image-comic.pstatic.net/webtoon/662774/142/20180707225814_4b71bd0a142a9bb0cbc9c1bf5f2742a8_IMAG01_7.jpg\n",
      "https://image-comic.pstatic.net/webtoon/662774/142/20180707225814_4b71bd0a142a9bb0cbc9c1bf5f2742a8_IMAG01_8.jpg\n",
      "https://image-comic.pstatic.net/webtoon/662774/142/20180707225814_4b71bd0a142a9bb0cbc9c1bf5f2742a8_IMAG01_9.jpg\n",
      "https://image-comic.pstatic.net/webtoon/662774/142/20180707225814_4b71bd0a142a9bb0cbc9c1bf5f2742a8_IMAG01_10.jpg\n",
      "https://image-comic.pstatic.net/webtoon/662774/142/20180707225814_4b71bd0a142a9bb0cbc9c1bf5f2742a8_IMAG01_11.jpg\n",
      "https://image-comic.pstatic.net/webtoon/662774/142/20180707225814_4b71bd0a142a9bb0cbc9c1bf5f2742a8_IMAG01_12.jpg\n",
      "https://image-comic.pstatic.net/webtoon/662774/142/20180707225814_4b71bd0a142a9bb0cbc9c1bf5f2742a8_IMAG01_13.jpg\n",
      "https://image-comic.pstatic.net/webtoon/662774/142/20180707225814_4b71bd0a142a9bb0cbc9c1bf5f2742a8_IMAG01_14.jpg\n",
      "https://image-comic.pstatic.net/webtoon/662774/142/20180707225814_4b71bd0a142a9bb0cbc9c1bf5f2742a8_IMAG01_15.jpg\n",
      "https://image-comic.pstatic.net/webtoon/662774/142/20180707225814_4b71bd0a142a9bb0cbc9c1bf5f2742a8_IMAG01_16.jpg\n",
      "https://image-comic.pstatic.net/webtoon/662774/142/20180707225814_4b71bd0a142a9bb0cbc9c1bf5f2742a8_IMAG01_17.jpg\n",
      "https://image-comic.pstatic.net/webtoon/662774/142/20180707225814_4b71bd0a142a9bb0cbc9c1bf5f2742a8_IMAG01_18.jpg\n",
      "https://image-comic.pstatic.net/webtoon/662774/142/20180707225814_4b71bd0a142a9bb0cbc9c1bf5f2742a8_IMAG01_19.jpg\n",
      "https://image-comic.pstatic.net/webtoon/662774/142/20180707225814_4b71bd0a142a9bb0cbc9c1bf5f2742a8_IMAG01_20.jpg\n",
      "https://image-comic.pstatic.net/webtoon/662774/142/20180707225814_4b71bd0a142a9bb0cbc9c1bf5f2742a8_IMAG01_21.jpg\n",
      "https://image-comic.pstatic.net/webtoon/662774/142/20180707225814_4b71bd0a142a9bb0cbc9c1bf5f2742a8_IMAG01_22.jpg\n",
      "https://image-comic.pstatic.net/webtoon/662774/142/20180707225814_4b71bd0a142a9bb0cbc9c1bf5f2742a8_IMAG01_23.jpg\n",
      "https://image-comic.pstatic.net/webtoon/662774/142/20180707225814_4b71bd0a142a9bb0cbc9c1bf5f2742a8_IMAG01_24.jpg\n",
      "https://image-comic.pstatic.net/webtoon/662774/142/20180707225814_4b71bd0a142a9bb0cbc9c1bf5f2742a8_IMAG01_25.jpg\n",
      "https://image-comic.pstatic.net/webtoon/662774/142/20180707225814_4b71bd0a142a9bb0cbc9c1bf5f2742a8_IMAG01_26.jpg\n",
      "https://image-comic.pstatic.net/webtoon/662774/142/20180707225814_4b71bd0a142a9bb0cbc9c1bf5f2742a8_IMAG01_27.jpg\n",
      "https://image-comic.pstatic.net/webtoon/662774/142/20180707225814_4b71bd0a142a9bb0cbc9c1bf5f2742a8_IMAG01_28.jpg\n",
      "https://image-comic.pstatic.net/webtoon/662774/142/20180707225814_4b71bd0a142a9bb0cbc9c1bf5f2742a8_IMAG01_29.jpg\n",
      "https://image-comic.pstatic.net/webtoon/662774/142/20180707225814_4b71bd0a142a9bb0cbc9c1bf5f2742a8_IMAG01_30.jpg\n",
      "https://image-comic.pstatic.net/webtoon/662774/142/20180707225814_4b71bd0a142a9bb0cbc9c1bf5f2742a8_IMAG01_31.jpg\n",
      "https://image-comic.pstatic.net/webtoon/662774/142/20180707225814_4b71bd0a142a9bb0cbc9c1bf5f2742a8_IMAG01_32.jpg\n",
      "https://image-comic.pstatic.net/webtoon/662774/142/20180707225814_4b71bd0a142a9bb0cbc9c1bf5f2742a8_IMAG01_33.jpg\n",
      "https://image-comic.pstatic.net/webtoon/662774/142/20180707225814_4b71bd0a142a9bb0cbc9c1bf5f2742a8_IMAG01_34.jpg\n",
      "https://image-comic.pstatic.net/webtoon/662774/142/20180707225814_4b71bd0a142a9bb0cbc9c1bf5f2742a8_IMAG01_35.jpg\n",
      "https://image-comic.pstatic.net/webtoon/662774/142/20180707225814_4b71bd0a142a9bb0cbc9c1bf5f2742a8_IMAG01_36.jpg\n",
      "https://image-comic.pstatic.net/webtoon/662774/142/20180707225814_4b71bd0a142a9bb0cbc9c1bf5f2742a8_IMAG01_37.jpg\n",
      "https://image-comic.pstatic.net/webtoon/662774/142/20180707225814_4b71bd0a142a9bb0cbc9c1bf5f2742a8_IMAG01_38.jpg\n",
      "https://image-comic.pstatic.net/webtoon/662774/142/20180707225814_4b71bd0a142a9bb0cbc9c1bf5f2742a8_IMAG01_39.jpg\n",
      "https://image-comic.pstatic.net/webtoon/662774/142/20180707225814_4b71bd0a142a9bb0cbc9c1bf5f2742a8_IMAG01_40.jpg\n",
      "https://image-comic.pstatic.net/webtoon/662774/142/20180707225814_4b71bd0a142a9bb0cbc9c1bf5f2742a8_IMAG01_41.jpg\n",
      "https://image-comic.pstatic.net/webtoon/662774/142/20180707225814_4b71bd0a142a9bb0cbc9c1bf5f2742a8_IMAG01_42.jpg\n",
      "https://image-comic.pstatic.net/webtoon/662774/142/20180707225814_4b71bd0a142a9bb0cbc9c1bf5f2742a8_IMAG01_43.jpg\n",
      "https://image-comic.pstatic.net/webtoon/662774/142/20180707225814_4b71bd0a142a9bb0cbc9c1bf5f2742a8_IMAG01_44.jpg\n",
      "https://image-comic.pstatic.net/webtoon/662774/142/20180707225814_4b71bd0a142a9bb0cbc9c1bf5f2742a8_IMAG01_45.jpg\n",
      "https://image-comic.pstatic.net/webtoon/662774/142/20180707225814_4b71bd0a142a9bb0cbc9c1bf5f2742a8_IMAG01_46.jpg\n",
      "https://image-comic.pstatic.net/webtoon/662774/142/20180707225814_4b71bd0a142a9bb0cbc9c1bf5f2742a8_IMAG01_47.jpg\n",
      "https://image-comic.pstatic.net/webtoon/662774/142/20180707225814_4b71bd0a142a9bb0cbc9c1bf5f2742a8_IMAG01_48.jpg\n",
      "https://image-comic.pstatic.net/webtoon/662774/142/20180707225814_4b71bd0a142a9bb0cbc9c1bf5f2742a8_IMAG01_49.jpg\n",
      "https://image-comic.pstatic.net/webtoon/662774/142/20180707225814_4b71bd0a142a9bb0cbc9c1bf5f2742a8_IMAG01_50.jpg\n",
      "https://image-comic.pstatic.net/webtoon/662774/142/20180707225814_4b71bd0a142a9bb0cbc9c1bf5f2742a8_IMAG01_51.jpg\n",
      "https://image-comic.pstatic.net/webtoon/662774/142/20180707225814_4b71bd0a142a9bb0cbc9c1bf5f2742a8_IMAG01_52.jpg\n",
      "https://image-comic.pstatic.net/webtoon/662774/142/20180707225814_4b71bd0a142a9bb0cbc9c1bf5f2742a8_IMAG01_53.jpg\n",
      "https://image-comic.pstatic.net/webtoon/662774/142/20180707225814_4b71bd0a142a9bb0cbc9c1bf5f2742a8_IMAG01_54.jpg\n",
      "https://image-comic.pstatic.net/webtoon/662774/142/20180707225814_4b71bd0a142a9bb0cbc9c1bf5f2742a8_IMAG01_55.jpg\n",
      "https://image-comic.pstatic.net/webtoon/662774/142/20180707225814_4b71bd0a142a9bb0cbc9c1bf5f2742a8_IMAG01_56.jpg\n",
      "https://image-comic.pstatic.net/webtoon/662774/142/20180707225814_4b71bd0a142a9bb0cbc9c1bf5f2742a8_IMAG01_57.jpg\n",
      "https://image-comic.pstatic.net/webtoon/662774/142/20180707225814_4b71bd0a142a9bb0cbc9c1bf5f2742a8_IMAG01_58.jpg\n",
      "https://image-comic.pstatic.net/webtoon/662774/142/20180707225814_4b71bd0a142a9bb0cbc9c1bf5f2742a8_IMAG01_59.jpg\n",
      "https://image-comic.pstatic.net/webtoon/662774/142/20180707225814_4b71bd0a142a9bb0cbc9c1bf5f2742a8_IMAG01_60.jpg\n",
      "https://image-comic.pstatic.net/webtoon/662774/142/20180707225814_4b71bd0a142a9bb0cbc9c1bf5f2742a8_IMAG01_61.jpg\n",
      "https://image-comic.pstatic.net/webtoon/662774/142/20180707225814_4b71bd0a142a9bb0cbc9c1bf5f2742a8_IMAG01_62.jpg\n",
      "https://image-comic.pstatic.net/webtoon/662774/142/20180707225814_4b71bd0a142a9bb0cbc9c1bf5f2742a8_IMAG01_63.jpg\n",
      "https://image-comic.pstatic.net/webtoon/662774/142/20180707225814_4b71bd0a142a9bb0cbc9c1bf5f2742a8_IMAG01_64.jpg\n",
      "https://image-comic.pstatic.net/webtoon/662774/142/20180707225814_4b71bd0a142a9bb0cbc9c1bf5f2742a8_IMAG01_65.jpg\n",
      "https://image-comic.pstatic.net/webtoon/662774/142/20180707225814_4b71bd0a142a9bb0cbc9c1bf5f2742a8_IMAG01_66.jpg\n",
      "https://image-comic.pstatic.net/webtoon/662774/142/20180707225814_4b71bd0a142a9bb0cbc9c1bf5f2742a8_IMAG01_67.jpg\n",
      "https://image-comic.pstatic.net/webtoon/662774/142/20180707225814_4b71bd0a142a9bb0cbc9c1bf5f2742a8_IMAG01_68.jpg\n",
      "https://image-comic.pstatic.net/webtoon/662774/142/20180707225814_4b71bd0a142a9bb0cbc9c1bf5f2742a8_IMAG01_69.jpg\n",
      "https://image-comic.pstatic.net/webtoon/662774/142/20180707225814_4b71bd0a142a9bb0cbc9c1bf5f2742a8_IMAG01_70.jpg\n",
      "https://image-comic.pstatic.net/webtoon/662774/142/20180707225814_4b71bd0a142a9bb0cbc9c1bf5f2742a8_IMAG01_71.jpg\n",
      "https://image-comic.pstatic.net/webtoon/662774/142/20180707225814_4b71bd0a142a9bb0cbc9c1bf5f2742a8_IMAG01_72.jpg\n",
      "https://image-comic.pstatic.net/webtoon/662774/142/20180707225814_4b71bd0a142a9bb0cbc9c1bf5f2742a8_IMAG01_73.jpg\n"
     ]
    },
    {
     "name": "stdout",
     "output_type": "stream",
     "text": [
      "https://image-comic.pstatic.net/webtoon/662774/142/20180707225814_4b71bd0a142a9bb0cbc9c1bf5f2742a8_IMAG01_74.jpg\n",
      "https://image-comic.pstatic.net/webtoon/662774/142/20180707225814_4b71bd0a142a9bb0cbc9c1bf5f2742a8_IMAG01_75.jpg\n",
      "https://image-comic.pstatic.net/webtoon/662774/142/20180707225814_4b71bd0a142a9bb0cbc9c1bf5f2742a8_IMAG01_76.jpg\n",
      "https://ssl.pstatic.net/static/comic/images/txt_ads.png\n",
      "https://ssl.pstatic.net/static/comic/images/txt_ads.png\n"
     ]
    }
   ],
   "source": [
    "for image_url in image_url_list:\n",
    "    res = requests.get(image_url, headers={'Referer': comic_url})\n",
    "    image_data = res.content\n",
    "    image_name = os.path.basename(image_url)\n",
    "    \n",
    "    print(image_url)\n",
    "    with open(image_name, 'wb') as f:\n",
    "        f.write(image_data)"
   ]
  },
  {
   "cell_type": "markdown",
   "metadata": {},
   "source": [
    "## 집합"
   ]
  },
  {
   "cell_type": "code",
   "execution_count": 5,
   "metadata": {},
   "outputs": [
    {
     "data": {
      "text/plain": [
       "{1, 3, 4, 5}"
      ]
     },
     "execution_count": 5,
     "metadata": {},
     "output_type": "execute_result"
    }
   ],
   "source": [
    "set_numbers = {1,3,4,5,1,4,3,1}\n",
    "set_numbers"
   ]
  },
  {
   "cell_type": "code",
   "execution_count": 10,
   "metadata": {
    "collapsed": true
   },
   "outputs": [],
   "source": [
    "학생목록 = [\n",
    "    {'이름': '김철수', '국어': 100, '영어': 50, '수학': 50,},\n",
    "    {'이름': '이영희', '국어': 80, '영어': 30, '수학': 50,},\n",
    "    {'이름': '배칠수', '국어': 70, '영어': 100, '수학': 90,},\n",
    "]"
   ]
  },
  {
   "cell_type": "code",
   "execution_count": 12,
   "metadata": {},
   "outputs": [
    {
     "name": "stdout",
     "output_type": "stream",
     "text": [
      "김철수 66\n",
      "이영희 53\n",
      "배칠수 86\n"
     ]
    }
   ],
   "source": [
    "for 학생 in 학생목록:\n",
    "    평균 = (학생['국어'] + 학생['영어'] + 학생['수학']) // 3\n",
    "    print(학생['이름'], 평균)"
   ]
  },
  {
   "cell_type": "code",
   "execution_count": 16,
   "metadata": {
    "collapsed": true
   },
   "outputs": [],
   "source": [
    "def make_fn(base):\n",
    "    fn=lambda x, y:x + y + base\n",
    "    return fn"
   ]
  },
  {
   "cell_type": "code",
   "execution_count": 17,
   "metadata": {
    "collapsed": true
   },
   "outputs": [],
   "source": [
    "base_10 = make_fn(10)\n",
    "base_20 = make_fn(20)\n",
    "base_30 = make_fn(30)"
   ]
  },
  {
   "cell_type": "markdown",
   "metadata": {
    "collapsed": true
   },
   "source": [
    "## 장식자"
   ]
  },
  {
   "cell_type": "code",
   "execution_count": 1,
   "metadata": {
    "collapsed": true
   },
   "outputs": [],
   "source": [
    "import time"
   ]
  },
  {
   "cell_type": "code",
   "execution_count": 2,
   "metadata": {
    "collapsed": true
   },
   "outputs": [],
   "source": [
    "def mysum(x,y):\n",
    "    time.sleep(3)\n",
    "    return x + y + 10"
   ]
  },
  {
   "cell_type": "code",
   "execution_count": 3,
   "metadata": {},
   "outputs": [
    {
     "name": "stdout",
     "output_type": "stream",
     "text": [
      "13\n",
      "13\n",
      "13\n"
     ]
    }
   ],
   "source": [
    "print(mysum(1,2))\n",
    "print(mysum(1,2))\n",
    "print(mysum(1,2)) "
   ]
  },
  {
   "cell_type": "code",
   "execution_count": 4,
   "metadata": {
    "collapsed": true
   },
   "outputs": [],
   "source": [
    "cached1 = {}\n",
    "\n",
    "def mysum(x, y):\n",
    "    key = (x, y)\n",
    "    if key not in cached1:\n",
    "        time.sleep(3)\n",
    "        cached1[key] = x + y + 10\n",
    "    return cached1[key]\n",
    "\n",
    "cached2 = {}\n",
    "\n",
    "def mymultiply(x, y):\n",
    "    key = (x, y)\n",
    "    if key not in cached2:\n",
    "        time.sleep(3)\n",
    "        cached2[key] = x * y + 10\n",
    "    return cached2[key]"
   ]
  },
  {
   "cell_type": "code",
   "execution_count": 7,
   "metadata": {},
   "outputs": [
    {
     "name": "stdout",
     "output_type": "stream",
     "text": [
      "13\n",
      "13\n",
      "13\n",
      "12\n"
     ]
    }
   ],
   "source": [
    "print(mysum(1, 2))\n",
    "print(mysum(1, 2))\n",
    "print(mysum(1, 2))\n",
    "print(mymultiply(1, 2))"
   ]
  },
  {
   "cell_type": "code",
   "execution_count": 8,
   "metadata": {},
   "outputs": [
    {
     "data": {
      "text/plain": [
       "'나다라마바사아자차카파타하'"
      ]
     },
     "execution_count": 8,
     "metadata": {},
     "output_type": "execute_result"
    }
   ],
   "source": [
    "\"가나다라마바사아자차카파타하\"[1:]"
   ]
  },
  {
   "cell_type": "code",
   "execution_count": 10,
   "metadata": {},
   "outputs": [
    {
     "data": {
      "text/plain": [
       "2"
      ]
     },
     "execution_count": 10,
     "metadata": {},
     "output_type": "execute_result"
    }
   ],
   "source": [
    "len(\"안녕\")"
   ]
  },
  {
   "cell_type": "code",
   "execution_count": 13,
   "metadata": {},
   "outputs": [
    {
     "ename": "SyntaxError",
     "evalue": "EOL while scanning string literal (<ipython-input-13-f4b6d74bcd54>, line 1)",
     "output_type": "error",
     "traceback": [
      "\u001b[0;36m  File \u001b[0;32m\"<ipython-input-13-f4b6d74bcd54>\"\u001b[0;36m, line \u001b[0;32m1\u001b[0m\n\u001b[0;31m    \"안녕\".encode(\"utf8)\u001b[0m\n\u001b[0m                      ^\u001b[0m\n\u001b[0;31mSyntaxError\u001b[0m\u001b[0;31m:\u001b[0m EOL while scanning string literal\n"
     ]
    }
   ],
   "source": [
    "\"안녕\".encode(\"utf8)"
   ]
  },
  {
   "cell_type": "markdown",
   "metadata": {},
   "source": []
  }
 ],
 "metadata": {
  "kernelspec": {
   "display_name": "Python 3",
   "language": "python",
   "name": "python3"
  },
  "language_info": {
   "codemirror_mode": {
    "name": "ipython",
    "version": 3
   },
   "file_extension": ".py",
   "mimetype": "text/x-python",
   "name": "python",
   "nbconvert_exporter": "python",
   "pygments_lexer": "ipython3",
   "version": "3.6.5"
  }
 },
 "nbformat": 4,
 "nbformat_minor": 2
}
